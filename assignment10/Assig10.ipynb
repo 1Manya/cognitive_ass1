{
 "cells": [
  {
   "cell_type": "code",
   "execution_count": 1,
   "metadata": {
    "colab": {
     "base_uri": "https://localhost:8080/"
    },
    "executionInfo": {
     "elapsed": 12228,
     "status": "ok",
     "timestamp": 1744566349382,
     "user": {
      "displayName": "Arpita Sethi",
      "userId": "12763240686332480089"
     },
     "user_tz": -330
    },
    "id": "0wkqrjEdPSs7",
    "outputId": "0b739638-380b-4ddb-eea3-92dad90156cf"
   },
   "outputs": [
    {
     "name": "stderr",
     "output_type": "stream",
     "text": [
      "[nltk_data] Downloading package punkt to\n",
      "[nltk_data]     C:\\Users\\Win10\\AppData\\Roaming\\nltk_data...\n",
      "[nltk_data]   Unzipping tokenizers\\punkt.zip.\n",
      "[nltk_data] Downloading package stopwords to\n",
      "[nltk_data]     C:\\Users\\Win10\\AppData\\Roaming\\nltk_data...\n",
      "[nltk_data]   Package stopwords is already up-to-date!\n",
      "[nltk_data] Downloading package punkt_tab to\n",
      "[nltk_data]     C:\\Users\\Win10\\AppData\\Roaming\\nltk_data...\n",
      "[nltk_data]   Package punkt_tab is already up-to-date!\n"
     ]
    },
    {
     "data": {
      "text/plain": [
       "True"
      ]
     },
     "execution_count": 1,
     "metadata": {},
     "output_type": "execute_result"
    }
   ],
   "source": [
    "import re\n",
    "import nltk\n",
    "from nltk.tokenize import word_tokenize, sent_tokenize\n",
    "from nltk.corpus import stopwords\n",
    "from collections import Counter\n",
    "import string\n",
    "\n",
    "nltk.download('punkt')\n",
    "nltk.download('stopwords')\n",
    "nltk.download('punkt_tab')"
   ]
  },
  {
   "cell_type": "code",
   "execution_count": 2,
   "metadata": {
    "id": "v9R3vPrVQZI6"
   },
   "outputs": [],
   "source": [
    "text = \"\"\"Artificial intelligence intrigues me due to its ability to mimic human thinking and adapt to different environments. The progress in robotics and machine learning opens up endless possibilities in automation and innovation. I find it amazing how AI systems can now analyze massive amounts of data and make informed decisions. Exploring the ethical and societal impacts of AI is equally captivating. This technology is reshaping industries and revolutionizing how we approach challenges in the modern world.\"\"\"\n"
   ]
  },
  {
   "cell_type": "code",
   "execution_count": 3,
   "metadata": {
    "colab": {
     "base_uri": "https://localhost:8080/",
     "height": 70
    },
    "executionInfo": {
     "elapsed": 14,
     "status": "ok",
     "timestamp": 1744566479348,
     "user": {
      "displayName": "Arpita Sethi",
      "userId": "12763240686332480089"
     },
     "user_tz": -330
    },
    "id": "PEFXNUupQnda",
    "outputId": "f353cd22-daf6-4afa-a68e-c2fcea3c8ac4"
   },
   "outputs": [
    {
     "data": {
      "text/plain": [
       "'artificial intelligence intrigues me due to its ability to mimic human thinking and adapt to different environments the progress in robotics and machine learning opens up endless possibilities in automation and innovation i find it amazing how ai systems can now analyze massive amounts of data and make informed decisions exploring the ethical and societal impacts of ai is equally captivating this technology is reshaping industries and revolutionizing how we approach challenges in the modern world'"
      ]
     },
     "execution_count": 3,
     "metadata": {},
     "output_type": "execute_result"
    }
   ],
   "source": [
    "text_l=text.lower()\n",
    "text_c=text_l.translate(str.maketrans('', '', string.punctuation))\n",
    "text_c"
   ]
  },
  {
   "cell_type": "code",
   "execution_count": 4,
   "metadata": {
    "colab": {
     "base_uri": "https://localhost:8080/"
    },
    "executionInfo": {
     "elapsed": 9,
     "status": "ok",
     "timestamp": 1744566507293,
     "user": {
      "displayName": "Arpita Sethi",
      "userId": "12763240686332480089"
     },
     "user_tz": -330
    },
    "id": "6mIEf9n9Q-jt",
    "outputId": "d169bc6f-c504-4177-b5ae-99d4eded9633"
   },
   "outputs": [
    {
     "data": {
      "text/plain": [
       "['artificial',\n",
       " 'intelligence',\n",
       " 'intrigues',\n",
       " 'me',\n",
       " 'due',\n",
       " 'to',\n",
       " 'its',\n",
       " 'ability',\n",
       " 'to',\n",
       " 'mimic',\n",
       " 'human',\n",
       " 'thinking',\n",
       " 'and',\n",
       " 'adapt',\n",
       " 'to',\n",
       " 'different',\n",
       " 'environments',\n",
       " 'the',\n",
       " 'progress',\n",
       " 'in',\n",
       " 'robotics',\n",
       " 'and',\n",
       " 'machine',\n",
       " 'learning',\n",
       " 'opens',\n",
       " 'up',\n",
       " 'endless',\n",
       " 'possibilities',\n",
       " 'in',\n",
       " 'automation',\n",
       " 'and',\n",
       " 'innovation',\n",
       " 'i',\n",
       " 'find',\n",
       " 'it',\n",
       " 'amazing',\n",
       " 'how',\n",
       " 'ai',\n",
       " 'systems',\n",
       " 'can',\n",
       " 'now',\n",
       " 'analyze',\n",
       " 'massive',\n",
       " 'amounts',\n",
       " 'of',\n",
       " 'data',\n",
       " 'and',\n",
       " 'make',\n",
       " 'informed',\n",
       " 'decisions',\n",
       " 'exploring',\n",
       " 'the',\n",
       " 'ethical',\n",
       " 'and',\n",
       " 'societal',\n",
       " 'impacts',\n",
       " 'of',\n",
       " 'ai',\n",
       " 'is',\n",
       " 'equally',\n",
       " 'captivating',\n",
       " 'this',\n",
       " 'technology',\n",
       " 'is',\n",
       " 'reshaping',\n",
       " 'industries',\n",
       " 'and',\n",
       " 'revolutionizing',\n",
       " 'how',\n",
       " 'we',\n",
       " 'approach',\n",
       " 'challenges',\n",
       " 'in',\n",
       " 'the',\n",
       " 'modern',\n",
       " 'world']"
      ]
     },
     "execution_count": 4,
     "metadata": {},
     "output_type": "execute_result"
    }
   ],
   "source": [
    "words_split= text_c.split()\n",
    "words_split"
   ]
  },
  {
   "cell_type": "code",
   "execution_count": 5,
   "metadata": {
    "colab": {
     "base_uri": "https://localhost:8080/"
    },
    "executionInfo": {
     "elapsed": 14,
     "status": "ok",
     "timestamp": 1744566523029,
     "user": {
      "displayName": "Arpita Sethi",
      "userId": "12763240686332480089"
     },
     "user_tz": -330
    },
    "id": "fCLgUjBHRFZU",
    "outputId": "4f880ac3-d775-4985-82a5-3d9824cd31be"
   },
   "outputs": [
    {
     "data": {
      "text/plain": [
       "['artificial',\n",
       " 'intelligence',\n",
       " 'intrigues',\n",
       " 'me',\n",
       " 'due',\n",
       " 'to',\n",
       " 'its',\n",
       " 'ability',\n",
       " 'to',\n",
       " 'mimic',\n",
       " 'human',\n",
       " 'thinking',\n",
       " 'and',\n",
       " 'adapt',\n",
       " 'to',\n",
       " 'different',\n",
       " 'environments',\n",
       " 'the',\n",
       " 'progress',\n",
       " 'in',\n",
       " 'robotics',\n",
       " 'and',\n",
       " 'machine',\n",
       " 'learning',\n",
       " 'opens',\n",
       " 'up',\n",
       " 'endless',\n",
       " 'possibilities',\n",
       " 'in',\n",
       " 'automation',\n",
       " 'and',\n",
       " 'innovation',\n",
       " 'i',\n",
       " 'find',\n",
       " 'it',\n",
       " 'amazing',\n",
       " 'how',\n",
       " 'ai',\n",
       " 'systems',\n",
       " 'can',\n",
       " 'now',\n",
       " 'analyze',\n",
       " 'massive',\n",
       " 'amounts',\n",
       " 'of',\n",
       " 'data',\n",
       " 'and',\n",
       " 'make',\n",
       " 'informed',\n",
       " 'decisions',\n",
       " 'exploring',\n",
       " 'the',\n",
       " 'ethical',\n",
       " 'and',\n",
       " 'societal',\n",
       " 'impacts',\n",
       " 'of',\n",
       " 'ai',\n",
       " 'is',\n",
       " 'equally',\n",
       " 'captivating',\n",
       " 'this',\n",
       " 'technology',\n",
       " 'is',\n",
       " 'reshaping',\n",
       " 'industries',\n",
       " 'and',\n",
       " 'revolutionizing',\n",
       " 'how',\n",
       " 'we',\n",
       " 'approach',\n",
       " 'challenges',\n",
       " 'in',\n",
       " 'the',\n",
       " 'modern',\n",
       " 'world']"
      ]
     },
     "execution_count": 5,
     "metadata": {},
     "output_type": "execute_result"
    }
   ],
   "source": [
    "words_nltk=word_tokenize(text_c)\n",
    "words_nltk"
   ]
  },
  {
   "cell_type": "code",
   "execution_count": 6,
   "metadata": {
    "colab": {
     "base_uri": "https://localhost:8080/"
    },
    "executionInfo": {
     "elapsed": 11,
     "status": "ok",
     "timestamp": 1744566557243,
     "user": {
      "displayName": "Arpita Sethi",
      "userId": "12763240686332480089"
     },
     "user_tz": -330
    },
    "id": "pUXTOYGkRJOM",
    "outputId": "aad57d55-971e-4759-c9bd-af9ed96e3344"
   },
   "outputs": [
    {
     "data": {
      "text/plain": [
       "['Artificial intelligence intrigues me due to its ability to mimic human thinking and adapt to different environments.',\n",
       " 'The progress in robotics and machine learning opens up endless possibilities in automation and innovation.',\n",
       " 'I find it amazing how AI systems can now analyze massive amounts of data and make informed decisions.',\n",
       " 'Exploring the ethical and societal impacts of AI is equally captivating.',\n",
       " 'This technology is reshaping industries and revolutionizing how we approach challenges in the modern world.']"
      ]
     },
     "execution_count": 6,
     "metadata": {},
     "output_type": "execute_result"
    }
   ],
   "source": [
    "sentences= sent_tokenize(text)\n",
    "sentences"
   ]
  },
  {
   "cell_type": "code",
   "execution_count": 7,
   "metadata": {
    "colab": {
     "base_uri": "https://localhost:8080/"
    },
    "executionInfo": {
     "elapsed": 56,
     "status": "ok",
     "timestamp": 1744566596376,
     "user": {
      "displayName": "Arpita Sethi",
      "userId": "12763240686332480089"
     },
     "user_tz": -330
    },
    "id": "3El2b1wrROAK",
    "outputId": "a7485370-7280-4608-b9a7-8696b9dea353"
   },
   "outputs": [
    {
     "data": {
      "text/plain": [
       "['artificial',\n",
       " 'intelligence',\n",
       " 'intrigues',\n",
       " 'due',\n",
       " 'ability',\n",
       " 'mimic',\n",
       " 'human',\n",
       " 'thinking',\n",
       " 'adapt',\n",
       " 'different',\n",
       " 'environments',\n",
       " 'progress',\n",
       " 'robotics',\n",
       " 'machine',\n",
       " 'learning',\n",
       " 'opens',\n",
       " 'endless',\n",
       " 'possibilities',\n",
       " 'automation',\n",
       " 'innovation',\n",
       " 'find',\n",
       " 'amazing',\n",
       " 'ai',\n",
       " 'systems',\n",
       " 'analyze',\n",
       " 'massive',\n",
       " 'amounts',\n",
       " 'data',\n",
       " 'make',\n",
       " 'informed',\n",
       " 'decisions',\n",
       " 'exploring',\n",
       " 'ethical',\n",
       " 'societal',\n",
       " 'impacts',\n",
       " 'ai',\n",
       " 'equally',\n",
       " 'captivating',\n",
       " 'technology',\n",
       " 'reshaping',\n",
       " 'industries',\n",
       " 'revolutionizing',\n",
       " 'approach',\n",
       " 'challenges',\n",
       " 'modern',\n",
       " 'world']"
      ]
     },
     "execution_count": 7,
     "metadata": {},
     "output_type": "execute_result"
    }
   ],
   "source": [
    "stop_words=set(stopwords.words('english'))\n",
    "filtered_words=[word for word in words_nltk if word not in stop_words]\n",
    "filtered_words"
   ]
  },
  {
   "cell_type": "code",
   "execution_count": 8,
   "metadata": {
    "colab": {
     "base_uri": "https://localhost:8080/"
    },
    "executionInfo": {
     "elapsed": 5,
     "status": "ok",
     "timestamp": 1744566632559,
     "user": {
      "displayName": "Arpita Sethi",
      "userId": "12763240686332480089"
     },
     "user_tz": -330
    },
    "id": "pFmpV5KVRbIf",
    "outputId": "ee53d396-9f6a-4589-c801-11b7f63e7b7a"
   },
   "outputs": [
    {
     "data": {
      "text/plain": [
       "Counter({'ai': 2,\n",
       "         'artificial': 1,\n",
       "         'intelligence': 1,\n",
       "         'intrigues': 1,\n",
       "         'due': 1,\n",
       "         'ability': 1,\n",
       "         'mimic': 1,\n",
       "         'human': 1,\n",
       "         'thinking': 1,\n",
       "         'adapt': 1,\n",
       "         'different': 1,\n",
       "         'environments': 1,\n",
       "         'progress': 1,\n",
       "         'robotics': 1,\n",
       "         'machine': 1,\n",
       "         'learning': 1,\n",
       "         'opens': 1,\n",
       "         'endless': 1,\n",
       "         'possibilities': 1,\n",
       "         'automation': 1,\n",
       "         'innovation': 1,\n",
       "         'find': 1,\n",
       "         'amazing': 1,\n",
       "         'systems': 1,\n",
       "         'analyze': 1,\n",
       "         'massive': 1,\n",
       "         'amounts': 1,\n",
       "         'data': 1,\n",
       "         'make': 1,\n",
       "         'informed': 1,\n",
       "         'decisions': 1,\n",
       "         'exploring': 1,\n",
       "         'ethical': 1,\n",
       "         'societal': 1,\n",
       "         'impacts': 1,\n",
       "         'equally': 1,\n",
       "         'captivating': 1,\n",
       "         'technology': 1,\n",
       "         'reshaping': 1,\n",
       "         'industries': 1,\n",
       "         'revolutionizing': 1,\n",
       "         'approach': 1,\n",
       "         'challenges': 1,\n",
       "         'modern': 1,\n",
       "         'world': 1})"
      ]
     },
     "execution_count": 8,
     "metadata": {},
     "output_type": "execute_result"
    }
   ],
   "source": [
    "freq_dist=Counter(filtered_words)\n",
    "freq_dist"
   ]
  },
  {
   "cell_type": "code",
   "execution_count": 9,
   "metadata": {
    "colab": {
     "base_uri": "https://localhost:8080/"
    },
    "executionInfo": {
     "elapsed": 227,
     "status": "ok",
     "timestamp": 1744566680801,
     "user": {
      "displayName": "Arpita Sethi",
      "userId": "12763240686332480089"
     },
     "user_tz": -330
    },
    "id": "dIIjjez7Rj-m",
    "outputId": "801dbe4c-6e4a-4664-abbb-b6f9db08a4cc"
   },
   "outputs": [
    {
     "name": "stderr",
     "output_type": "stream",
     "text": [
      "[nltk_data] Downloading package wordnet to\n",
      "[nltk_data]     C:\\Users\\Win10\\AppData\\Roaming\\nltk_data...\n",
      "[nltk_data]   Package wordnet is already up-to-date!\n"
     ]
    },
    {
     "data": {
      "text/plain": [
       "True"
      ]
     },
     "execution_count": 9,
     "metadata": {},
     "output_type": "execute_result"
    }
   ],
   "source": [
    "from nltk.stem import PorterStemmer , WordNetLemmatizer\n",
    "nltk.download('wordnet')"
   ]
  },
  {
   "cell_type": "code",
   "execution_count": 10,
   "metadata": {
    "colab": {
     "base_uri": "https://localhost:8080/"
    },
    "executionInfo": {
     "elapsed": 54,
     "status": "ok",
     "timestamp": 1744566727771,
     "user": {
      "displayName": "Arpita Sethi",
      "userId": "12763240686332480089"
     },
     "user_tz": -330
    },
    "id": "b-owlb87RvoX",
    "outputId": "43428ca6-dff9-41a5-fa3a-a3ff33262093"
   },
   "outputs": [
    {
     "data": {
      "text/plain": [
       "['artificial',\n",
       " 'intelligence',\n",
       " 'intrigues',\n",
       " 'me',\n",
       " 'due',\n",
       " 'to',\n",
       " 'its',\n",
       " 'ability',\n",
       " 'to',\n",
       " 'mimic',\n",
       " 'human',\n",
       " 'thinking',\n",
       " 'and',\n",
       " 'adapt',\n",
       " 'to',\n",
       " 'different',\n",
       " 'environments',\n",
       " 'the',\n",
       " 'progress',\n",
       " 'in',\n",
       " 'robotics',\n",
       " 'and',\n",
       " 'machine',\n",
       " 'learning',\n",
       " 'opens',\n",
       " 'up',\n",
       " 'endless',\n",
       " 'possibilities',\n",
       " 'in',\n",
       " 'automation',\n",
       " 'and',\n",
       " 'innovation',\n",
       " 'i',\n",
       " 'find',\n",
       " 'it',\n",
       " 'amazing',\n",
       " 'how',\n",
       " 'ai',\n",
       " 'systems',\n",
       " 'can',\n",
       " 'now',\n",
       " 'analyze',\n",
       " 'massive',\n",
       " 'amounts',\n",
       " 'of',\n",
       " 'data',\n",
       " 'and',\n",
       " 'make',\n",
       " 'informed',\n",
       " 'decisions',\n",
       " 'exploring',\n",
       " 'the',\n",
       " 'ethical',\n",
       " 'and',\n",
       " 'societal',\n",
       " 'impacts',\n",
       " 'of',\n",
       " 'ai',\n",
       " 'is',\n",
       " 'equally',\n",
       " 'captivating',\n",
       " 'this',\n",
       " 'technology',\n",
       " 'is',\n",
       " 'reshaping',\n",
       " 'industries',\n",
       " 'and',\n",
       " 'revolutionizing',\n",
       " 'how',\n",
       " 'we',\n",
       " 'approach',\n",
       " 'challenges',\n",
       " 'in',\n",
       " 'the',\n",
       " 'modern',\n",
       " 'world']"
      ]
     },
     "execution_count": 10,
     "metadata": {},
     "output_type": "execute_result"
    }
   ],
   "source": [
    "alphabets=re.findall(r'\\b[a-zA-Z]+\\b', text_c)\n",
    "alphabets"
   ]
  },
  {
   "cell_type": "code",
   "execution_count": 11,
   "metadata": {
    "colab": {
     "base_uri": "https://localhost:8080/"
    },
    "executionInfo": {
     "elapsed": 11,
     "status": "ok",
     "timestamp": 1744566774255,
     "user": {
      "displayName": "Arpita Sethi",
      "userId": "12763240686332480089"
     },
     "user_tz": -330
    },
    "id": "ofKTW1tWR7NO",
    "outputId": "5561ec7d-2359-4cd7-e76c-94c3b68ad699"
   },
   "outputs": [
    {
     "data": {
      "text/plain": [
       "['artificial',\n",
       " 'intelligence',\n",
       " 'intrigues',\n",
       " 'due',\n",
       " 'ability',\n",
       " 'mimic',\n",
       " 'human',\n",
       " 'thinking',\n",
       " 'adapt',\n",
       " 'different',\n",
       " 'environments',\n",
       " 'progress',\n",
       " 'robotics',\n",
       " 'machine',\n",
       " 'learning',\n",
       " 'opens',\n",
       " 'endless',\n",
       " 'possibilities',\n",
       " 'automation',\n",
       " 'innovation',\n",
       " 'find',\n",
       " 'amazing',\n",
       " 'ai',\n",
       " 'systems',\n",
       " 'analyze',\n",
       " 'massive',\n",
       " 'amounts',\n",
       " 'data',\n",
       " 'make',\n",
       " 'informed',\n",
       " 'decisions',\n",
       " 'exploring',\n",
       " 'ethical',\n",
       " 'societal',\n",
       " 'impacts',\n",
       " 'ai',\n",
       " 'equally',\n",
       " 'captivating',\n",
       " 'technology',\n",
       " 'reshaping',\n",
       " 'industries',\n",
       " 'revolutionizing',\n",
       " 'approach',\n",
       " 'challenges',\n",
       " 'modern',\n",
       " 'world']"
      ]
     },
     "execution_count": 11,
     "metadata": {},
     "output_type": "execute_result"
    }
   ],
   "source": [
    "filter=[word for word in alphabets if word not in stop_words]\n",
    "filter"
   ]
  },
  {
   "cell_type": "code",
   "execution_count": 12,
   "metadata": {
    "colab": {
     "base_uri": "https://localhost:8080/"
    },
    "executionInfo": {
     "elapsed": 8,
     "status": "ok",
     "timestamp": 1744566901702,
     "user": {
      "displayName": "Arpita Sethi",
      "userId": "12763240686332480089"
     },
     "user_tz": -330
    },
    "id": "vWoX2kt1SGke",
    "outputId": "4479909e-6eab-4a9e-c788-1410d3aece73"
   },
   "outputs": [
    {
     "name": "stdout",
     "output_type": "stream",
     "text": [
      "Stemmed:  ['artifici', 'intellig', 'intrigu', 'due', 'abil', 'mimic', 'human', 'think', 'adapt', 'differ', 'environ', 'progress', 'robot', 'machin', 'learn', 'open', 'endless', 'possibl', 'autom', 'innov', 'find', 'amaz', 'ai', 'system', 'analyz', 'massiv', 'amount', 'data', 'make', 'inform', 'decis', 'explor', 'ethic', 'societ', 'impact', 'ai', 'equal', 'captiv', 'technolog', 'reshap', 'industri', 'revolution', 'approach', 'challeng', 'modern', 'world']\n",
      "Lemmatized:  ['artificial', 'intelligence', 'intrigue', 'due', 'ability', 'mimic', 'human', 'thinking', 'adapt', 'different', 'environment', 'progress', 'robotics', 'machine', 'learning', 'open', 'endless', 'possibility', 'automation', 'innovation', 'find', 'amazing', 'ai', 'system', 'analyze', 'massive', 'amount', 'data', 'make', 'informed', 'decision', 'exploring', 'ethical', 'societal', 'impact', 'ai', 'equally', 'captivating', 'technology', 'reshaping', 'industry', 'revolutionizing', 'approach', 'challenge', 'modern', 'world']\n"
     ]
    }
   ],
   "source": [
    "stemmer=PorterStemmer()\n",
    "stemmed=[stemmer.stem(word) for word in filter]\n",
    "\n",
    "lemmatizer=WordNetLemmatizer()\n",
    "lemmatized=[lemmatizer.lemmatize(word) for word in filter]\n",
    "print('Stemmed: ', stemmed)\n",
    "print('Lemmatized: ', lemmatized)"
   ]
  },
  {
   "cell_type": "code",
   "execution_count": 13,
   "metadata": {
    "colab": {
     "base_uri": "https://localhost:8080/"
    },
    "executionInfo": {
     "elapsed": 51,
     "status": "ok",
     "timestamp": 1744567347576,
     "user": {
      "displayName": "Arpita Sethi",
      "userId": "12763240686332480089"
     },
     "user_tz": -330
    },
    "id": "lZzWugMFSdU0",
    "outputId": "6d689992-59ba-4254-b465-bae0b21d6d3c"
   },
   "outputs": [
    {
     "name": "stdout",
     "output_type": "stream",
     "text": [
      "['ai' 'are' 'automating' 'by' 'cars' 'changed' 'education' 'electric'\n",
      " 'forever' 'future' 'have' 'industries' 'is' 'learning' 'of' 'online'\n",
      " 'platforms' 'processes' 'sustainable' 'the' 'transforming'\n",
      " 'transportation']\n",
      "[[1 0 1 1 0 0 0 0 0 0 0 1 1 0 0 0 0 1 0 0 1 0]\n",
      " [0 1 0 0 1 0 0 1 0 1 0 0 0 0 1 0 0 0 1 1 0 1]\n",
      " [0 0 0 0 0 1 1 0 1 0 1 0 0 1 0 1 1 0 0 0 0 0]]\n"
     ]
    }
   ],
   "source": [
    "from sklearn.feature_extraction.text import CountVectorizer, TfidfVectorizer\n",
    "import numpy as np\n",
    "\n",
    "texts=[\n",
    "    \"AI is transforming industries by automating processes.\",\n",
    "    \"Electric cars are the future of sustainable transportation.\",\n",
    "    \"Online learning platforms have changed education forever.\"\n",
    "]\n",
    "\n",
    "cv=CountVectorizer()\n",
    "bow=cv.fit_transform(texts)\n",
    "\n",
    "print(cv.get_feature_names_out())\n",
    "print(bow.toarray())\n",
    "\n",
    "\n"
   ]
  },
  {
   "cell_type": "code",
   "execution_count": 14,
   "metadata": {
    "colab": {
     "base_uri": "https://localhost:8080/"
    },
    "executionInfo": {
     "elapsed": 15,
     "status": "ok",
     "timestamp": 1744567384389,
     "user": {
      "displayName": "Arpita Sethi",
      "userId": "12763240686332480089"
     },
     "user_tz": -330
    },
    "id": "GQeI-H1yUSgv",
    "outputId": "74d8201a-e7f6-46f9-dbac-155dea1ce253"
   },
   "outputs": [
    {
     "name": "stdout",
     "output_type": "stream",
     "text": [
      "['ai' 'are' 'automating' 'by' 'cars' 'changed' 'education' 'electric'\n",
      " 'forever' 'future' 'have' 'industries' 'is' 'learning' 'of' 'online'\n",
      " 'platforms' 'processes' 'sustainable' 'the' 'transforming'\n",
      " 'transportation']\n",
      "[[0.37796447 0.         0.37796447 0.37796447 0.         0.\n",
      "  0.         0.         0.         0.         0.         0.37796447\n",
      "  0.37796447 0.         0.         0.         0.         0.37796447\n",
      "  0.         0.         0.37796447 0.        ]\n",
      " [0.         0.35355339 0.         0.         0.35355339 0.\n",
      "  0.         0.35355339 0.         0.35355339 0.         0.\n",
      "  0.         0.         0.35355339 0.         0.         0.\n",
      "  0.35355339 0.35355339 0.         0.35355339]\n",
      " [0.         0.         0.         0.         0.         0.37796447\n",
      "  0.37796447 0.         0.37796447 0.         0.37796447 0.\n",
      "  0.         0.37796447 0.         0.37796447 0.37796447 0.\n",
      "  0.         0.         0.         0.        ]]\n"
     ]
    }
   ],
   "source": [
    "tfidf = TfidfVectorizer()\n",
    "tfidf_matrix = tfidf.fit_transform(texts)\n",
    "print(tfidf.get_feature_names_out())\n",
    "print(tfidf_matrix.toarray())"
   ]
  },
  {
   "cell_type": "code",
   "execution_count": 15,
   "metadata": {
    "id": "Ypn410rDUbh-"
   },
   "outputs": [],
   "source": [
    "from sklearn.metrics.pairwise import cosine_similarity\n",
    "\n",
    "text1 = \"Artificial intelligence is transforming the way we work and live in the modern world.\"\n",
    "text2 = \"The rise of artificial intelligence is changing how people live and work every day.\"\n"
   ]
  },
  {
   "cell_type": "code",
   "execution_count": 16,
   "metadata": {
    "id": "wiYkqQgRUyEk"
   },
   "outputs": [],
   "source": [
    "def preprocess(text):\n",
    "    text = text.lower()\n",
    "    return text.translate(str.maketrans('', '', string.punctuation))\n",
    "\n",
    "t1_clean = preprocess(text1)\n",
    "t2_clean = preprocess(text2)\n"
   ]
  },
  {
   "cell_type": "code",
   "execution_count": 17,
   "metadata": {
    "id": "O3dsTieCVFvw"
   },
   "outputs": [],
   "source": [
    "stop_words = set(stopwords.words('english'))\n",
    "tokens1 = set([word for word in word_tokenize(t1_clean) if word not in stop_words])\n",
    "tokens2 = set([word for word in word_tokenize(t2_clean) if word not in stop_words])"
   ]
  },
  {
   "cell_type": "code",
   "execution_count": 18,
   "metadata": {
    "colab": {
     "base_uri": "https://localhost:8080/"
    },
    "executionInfo": {
     "elapsed": 12,
     "status": "ok",
     "timestamp": 1744567918540,
     "user": {
      "displayName": "Arpita Sethi",
      "userId": "12763240686332480089"
     },
     "user_tz": -330
    },
    "id": "DN86nEk4WADE",
    "outputId": "f6152a7f-ef8b-400a-97d0-a9e4ef8fe73d"
   },
   "outputs": [
    {
     "data": {
      "text/plain": [
       "0.3076923076923077"
      ]
     },
     "execution_count": 18,
     "metadata": {},
     "output_type": "execute_result"
    }
   ],
   "source": [
    "intersection = tokens1.intersection(tokens2)\n",
    "union = tokens1.union(tokens2)\n",
    "jaccard_sim = len(intersection) / len(union)\n",
    "jaccard_sim"
   ]
  },
  {
   "cell_type": "code",
   "execution_count": 19,
   "metadata": {
    "colab": {
     "base_uri": "https://localhost:8080/"
    },
    "executionInfo": {
     "elapsed": 48,
     "status": "ok",
     "timestamp": 1744567948450,
     "user": {
      "displayName": "Arpita Sethi",
      "userId": "12763240686332480089"
     },
     "user_tz": -330
    },
    "id": "kJfaqFwEWCPW",
    "outputId": "b1ff1538-016a-4e29-c4e0-382179415fe1"
   },
   "outputs": [
    {
     "data": {
      "text/plain": [
       "np.float64(0.37499692925059824)"
      ]
     },
     "execution_count": 19,
     "metadata": {},
     "output_type": "execute_result"
    }
   ],
   "source": [
    "tfidf_vec = TfidfVectorizer()\n",
    "tfidf_matrix = tfidf_vec.fit_transform([text1, text2])\n",
    "cosine_sim = cosine_similarity(tfidf_matrix[0:1], tfidf_matrix[1:2])[0][0]\n",
    "cosine_sim"
   ]
  },
  {
   "cell_type": "code",
   "execution_count": 22,
   "metadata": {
    "colab": {
     "base_uri": "https://localhost:8080/",
     "height": 419
    },
    "executionInfo": {
     "elapsed": 478,
     "status": "ok",
     "timestamp": 1744568411770,
     "user": {
      "displayName": "Arpita Sethi",
      "userId": "12763240686332480089"
     },
     "user_tz": -330
    },
    "id": "S4F6zm2mWffh",
    "outputId": "f45561f1-8dd3-442e-d4d4-7b8b30741407"
   },
   "outputs": [
    {
     "name": "stdout",
     "output_type": "stream",
     "text": [
      "Polarity: 0.6875\n",
      "Subjectivity: 0.55\n",
      "Sentiment: Positive\n"
     ]
    },
    {
     "data": {
      "image/png": "[encoded data removed]",
      "text/plain": [
       "<Figure size 640x480 with 1 Axes>"
      ]
     },
     "metadata": {},
     "output_type": "display_data"
    }
   ],
   "source": [
    "from textblob import TextBlob\n",
    "from wordcloud import WordCloud\n",
    "import matplotlib.pyplot as plt\n",
    "\n",
    "review=\"This laptop has excellent battery life and a sleek design. Totally worth the price!\"\n",
    "\n",
    "blob = TextBlob(review)\n",
    "polarity = blob.sentiment.polarity\n",
    "subjectivity=blob.sentiment.subjectivity\n",
    "\n",
    "if polarity >0:\n",
    "  sentiment=\"Positive\"\n",
    "elif polarity<0:\n",
    "  sentiment=\"Negative\"\n",
    "else:\n",
    "  sentiment=\"Neutral\"\n",
    "\n",
    "print(f\"Polarity: {polarity}\")\n",
    "print(f\"Subjectivity: {subjectivity}\")\n",
    "print(f\"Sentiment: {sentiment}\")\n",
    "\n",
    "\n",
    "if sentiment==\"Positive\":\n",
    "  wc= WordCloud(width=600, height=400, background_color='white').generate(review)\n",
    "\n",
    "  plt.imshow(wc, interpolation='bilinear')\n",
    "  plt.axis('off')\n",
    "  plt.show()\n"
   ]
  },
  {
   "cell_type": "code",
   "execution_count": 23,
   "metadata": {
    "colab": {
     "base_uri": "https://localhost:8080/"
    },
    "executionInfo": {
     "elapsed": 2873,
     "status": "ok",
     "timestamp": 1744568750686,
     "user": {
      "displayName": "Arpita Sethi",
      "userId": "12763240686332480089"
     },
     "user_tz": -330
    },
    "id": "C4QFTBmsYo70",
    "outputId": "dd1905c8-8154-4e2b-ce63-b67c512ae3f0"
   },
   "outputs": [
    {
     "name": "stdout",
     "output_type": "stream",
     "text": [
      "Collecting keras\n",
      "  Downloading keras-3.9.2-py3-none-any.whl.metadata (6.1 kB)\n"
     ]
    },
    {
     "name": "stderr",
     "output_type": "stream",
     "text": [
      "ERROR: Could not find a version that satisfies the requirement tensorflow (from versions: none)\n",
      "ERROR: No matching distribution found for tensorflow\n"
     ]
    }
   ],
   "source": [
    "!pip install keras tensorflow\n",
    "\n"
   ]
  },
  {
   "cell_type": "code",
   "execution_count": 24,
   "metadata": {
    "id": "3cp-rd2yZGgN"
   },
   "outputs": [
    {
     "ename": "ModuleNotFoundError",
     "evalue": "No module named 'tensorflow'",
     "output_type": "error",
     "traceback": [
      "\u001b[31m---------------------------------------------------------------------------\u001b[39m",
      "\u001b[31mModuleNotFoundError\u001b[39m                       Traceback (most recent call last)",
      "\u001b[36mCell\u001b[39m\u001b[36m \u001b[39m\u001b[32mIn[24]\u001b[39m\u001b[32m, line 1\u001b[39m\n\u001b[32m----> \u001b[39m\u001b[32m1\u001b[39m \u001b[38;5;28;01mfrom\u001b[39;00m\u001b[38;5;250m \u001b[39m\u001b[34;01mtensorflow\u001b[39;00m\u001b[34;01m.\u001b[39;00m\u001b[34;01mkeras\u001b[39;00m\u001b[34;01m.\u001b[39;00m\u001b[34;01mpreprocessing\u001b[39;00m\u001b[34;01m.\u001b[39;00m\u001b[34;01mtext\u001b[39;00m\u001b[38;5;250m \u001b[39m\u001b[38;5;28;01mimport\u001b[39;00m Tokenizer\n\u001b[32m      2\u001b[39m \u001b[38;5;28;01mfrom\u001b[39;00m\u001b[38;5;250m \u001b[39m\u001b[34;01mkeras\u001b[39;00m\u001b[34;01m.\u001b[39;00m\u001b[34;01mutils\u001b[39;00m\u001b[38;5;250m \u001b[39m\u001b[38;5;28;01mimport\u001b[39;00m pad_sequences\n\u001b[32m      3\u001b[39m \u001b[38;5;28;01mfrom\u001b[39;00m\u001b[38;5;250m \u001b[39m\u001b[34;01mkeras\u001b[39;00m\u001b[34;01m.\u001b[39;00m\u001b[34;01mmodels\u001b[39;00m\u001b[38;5;250m \u001b[39m\u001b[38;5;28;01mimport\u001b[39;00m Sequential\n",
      "\u001b[31mModuleNotFoundError\u001b[39m: No module named 'tensorflow'"
     ]
    }
   ],
   "source": [
    "from tensorflow.keras.preprocessing.text import Tokenizer\n",
    "from keras.utils import pad_sequences\n",
    "from keras.models import Sequential\n",
    "from keras.layers import Embedding, LSTM, Dense\n",
    "import numpy as np"
   ]
  },
  {
   "cell_type": "code",
   "execution_count": null,
   "metadata": {},
   "outputs": [],
   "source": []
  }
 ],
 "metadata": {
  "colab": {
   "authorship_tag": "ABX9TyO3DU93YX7QblA96BeWpt6c",
   "provenance": []
  },
  "kernelspec": {
   "display_name": "Python 3 (ipykernel)",
   "language": "python",
   "name": "python3"
  },
  "language_info": {
   "codemirror_mode": {
    "name": "ipython",
    "version": 3
   },
   "file_extension": ".py",
   "mimetype": "text/x-python",
   "name": "python",
   "nbconvert_exporter": "python",
   "pygments_lexer": "ipython3",
   "version": "3.13.2"
  }
 },
 "nbformat": 4,
 "nbformat_minor": 4
}
