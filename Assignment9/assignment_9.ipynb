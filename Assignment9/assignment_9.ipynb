{
 "cells": [
  {
   "cell_type": "code",
   "execution_count": 1,
   "metadata": {
    "executionInfo": {
     "elapsed": 7,
     "status": "ok",
     "timestamp": 1744548778059,
     "user": {
      "displayName": "Arpita Sethi",
      "userId": "12763240686332480089"
     },
     "user_tz": -330
    },
    "id": "Fl7WRI_fMOKm"
   },
   "outputs": [],
   "source": [
    "text=\"\"\"Sports have always been an integral part of human culture and development.\n",
    "From football to athletics, each game brings people together and teaches valuable life skills.\n",
    "I find it inspiring how athletes train with dedication and push their limits.\n",
    "These experiences are not just competitions—they shape character and promote unity.\n",
    "The future looks healthier, stronger, and more connected through sports.\n",
    "It truly motivates me to embrace an active and disciplined lifestyle.\"\"\""
   ]
  },
  {
   "cell_type": "code",
   "execution_count": 2,
   "metadata": {
    "colab": {
     "base_uri": "https://localhost:8080/",
     "height": 122
    },
    "executionInfo": {
     "elapsed": 21,
     "status": "ok",
     "timestamp": 1744548799770,
     "user": {
      "displayName": "Arpita Sethi",
      "userId": "12763240686332480089"
     },
     "user_tz": -330
    },
    "id": "d3XkZjRFMjdJ",
    "outputId": "acaf4289-df8c-4944-b98e-899c30c0545f"
   },
   "outputs": [
    {
     "data": {
      "text/plain": [
       "'sports have always been an integral part of human culture and development\\nfrom football to athletics each game brings people together and teaches valuable life skills\\ni find it inspiring how athletes train with dedication and push their limits\\nthese experiences are not just competitions—they shape character and promote unity\\nthe future looks healthier stronger and more connected through sports\\nit truly motivates me to embrace an active and disciplined lifestyle'"
      ]
     },
     "execution_count": 2,
     "metadata": {},
     "output_type": "execute_result"
    }
   ],
   "source": [
    "import string\n",
    "text_l= text.lower()\n",
    "text_c= text_l.translate(str.maketrans(\"\", \"\", string.punctuation))\n",
    "text_c"
   ]
  },
  {
   "cell_type": "code",
   "execution_count": 4,
   "metadata": {
    "colab": {
     "base_uri": "https://localhost:8080/"
    },
    "executionInfo": {
     "elapsed": 301,
     "status": "ok",
     "timestamp": 1744548953858,
     "user": {
      "displayName": "Arpita Sethi",
      "userId": "12763240686332480089"
     },
     "user_tz": -330
    },
    "id": "isOamIbqMqMz",
    "outputId": "a560c2b3-5428-4ca5-8326-1659cb0a635b"
   },
   "outputs": [
    {
     "name": "stderr",
     "output_type": "stream",
     "text": [
      "[nltk_data] Downloading package punkt_tab to\n",
      "[nltk_data]     C:\\Users\\Win10\\AppData\\Roaming\\nltk_data...\n",
      "[nltk_data]   Unzipping tokenizers\\punkt_tab.zip.\n"
     ]
    },
    {
     "data": {
      "text/plain": [
       "True"
      ]
     },
     "execution_count": 4,
     "metadata": {},
     "output_type": "execute_result"
    }
   ],
   "source": [
    "import nltk\n",
    "\n",
    "nltk.download('punkt_tab')"
   ]
  },
  {
   "cell_type": "code",
   "execution_count": 5,
   "metadata": {
    "executionInfo": {
     "elapsed": 30,
     "status": "ok",
     "timestamp": 1744548960130,
     "user": {
      "displayName": "Arpita Sethi",
      "userId": "12763240686332480089"
     },
     "user_tz": -330
    },
    "id": "tz8EVZ1ZNqzV"
   },
   "outputs": [],
   "source": [
    "sent_tokens = nltk.sent_tokenize(text_c)\n",
    "word_tokens = nltk.word_tokenize(text_c)"
   ]
  },
  {
   "cell_type": "code",
   "execution_count": 6,
   "metadata": {
    "colab": {
     "base_uri": "https://localhost:8080/"
    },
    "executionInfo": {
     "elapsed": 66,
     "status": "ok",
     "timestamp": 1744549001461,
     "user": {
      "displayName": "Arpita Sethi",
      "userId": "12763240686332480089"
     },
     "user_tz": -330
    },
    "id": "mCGqiUerN2qq",
    "outputId": "4bf4af78-fabd-445a-8d0c-dbe0793d4641"
   },
   "outputs": [
    {
     "name": "stderr",
     "output_type": "stream",
     "text": [
      "[nltk_data] Downloading package stopwords to\n",
      "[nltk_data]     C:\\Users\\Win10\\AppData\\Roaming\\nltk_data...\n",
      "[nltk_data]   Unzipping corpora\\stopwords.zip.\n"
     ]
    },
    {
     "data": {
      "text/plain": [
       "True"
      ]
     },
     "execution_count": 6,
     "metadata": {},
     "output_type": "execute_result"
    }
   ],
   "source": [
    "from nltk.corpus import stopwords\n",
    "nltk.download('stopwords')"
   ]
  },
  {
   "cell_type": "code",
   "execution_count": 7,
   "metadata": {
    "executionInfo": {
     "elapsed": 8,
     "status": "ok",
     "timestamp": 1744549044968,
     "user": {
      "displayName": "Arpita Sethi",
      "userId": "12763240686332480089"
     },
     "user_tz": -330
    },
    "id": "Jb7Lvq5-OTeS"
   },
   "outputs": [],
   "source": [
    "stop_words=set(stopwords.words('english'))\n",
    "filtered_words=[word for word in word_tokens if word not in stop_words]"
   ]
  },
  {
   "cell_type": "code",
   "execution_count": 8,
   "metadata": {
    "colab": {
     "base_uri": "https://localhost:8080/"
    },
    "executionInfo": {
     "elapsed": 14,
     "status": "ok",
     "timestamp": 1744549056699,
     "user": {
      "displayName": "Arpita Sethi",
      "userId": "12763240686332480089"
     },
     "user_tz": -330
    },
    "id": "FkveUaY5OeGJ",
    "outputId": "6556190b-c61f-4685-8750-b20495d5a3d6"
   },
   "outputs": [
    {
     "data": {
      "text/plain": [
       "['sports',\n",
       " 'always',\n",
       " 'integral',\n",
       " 'part',\n",
       " 'human',\n",
       " 'culture',\n",
       " 'development',\n",
       " 'football',\n",
       " 'athletics',\n",
       " 'game',\n",
       " 'brings',\n",
       " 'people',\n",
       " 'together',\n",
       " 'teaches',\n",
       " 'valuable',\n",
       " 'life',\n",
       " 'skills',\n",
       " 'find',\n",
       " 'inspiring',\n",
       " 'athletes',\n",
       " 'train',\n",
       " 'dedication',\n",
       " 'push',\n",
       " 'limits',\n",
       " 'experiences',\n",
       " 'competitions—they',\n",
       " 'shape',\n",
       " 'character',\n",
       " 'promote',\n",
       " 'unity',\n",
       " 'future',\n",
       " 'looks',\n",
       " 'healthier',\n",
       " 'stronger',\n",
       " 'connected',\n",
       " 'sports',\n",
       " 'truly',\n",
       " 'motivates',\n",
       " 'embrace',\n",
       " 'active',\n",
       " 'disciplined',\n",
       " 'lifestyle']"
      ]
     },
     "execution_count": 8,
     "metadata": {},
     "output_type": "execute_result"
    }
   ],
   "source": [
    "filtered_words"
   ]
  },
  {
   "cell_type": "code",
   "execution_count": 9,
   "metadata": {
    "colab": {
     "base_uri": "https://localhost:8080/",
     "height": 587
    },
    "executionInfo": {
     "elapsed": 1032,
     "status": "ok",
     "timestamp": 1744549118062,
     "user": {
      "displayName": "Arpita Sethi",
      "userId": "12763240686332480089"
     },
     "user_tz": -330
    },
    "id": "QHbaHx9XOg-A",
    "outputId": "32f7187d-d6c1-44a8-e0c7-a0a3057014f5"
   },
   "outputs": [
    {
     "data": {
      "text/plain": [
       "<Axes: title={'center': 'Word Frequency(excluding stopwords)'}, xlabel='Samples', ylabel='Counts'>"
      ]
     },
     "execution_count": 9,
     "metadata": {},
     "output_type": "execute_result"
    },
    {
     "data": {
      "image/png": "[encoded data removed]",
      "text/plain": [
       "<Figure size 640x480 with 1 Axes>"
      ]
     },
     "metadata": {},
     "output_type": "display_data"
    }
   ],
   "source": [
    "from nltk import FreqDist\n",
    "freq_dist= FreqDist(filtered_words)\n",
    "freq_dist.plot(20, title=\"Word Frequency(excluding stopwords)\")"
   ]
  },
  {
   "cell_type": "code",
   "execution_count": 10,
   "metadata": {
    "colab": {
     "base_uri": "https://localhost:8080/"
    },
    "executionInfo": {
     "elapsed": 16,
     "status": "ok",
     "timestamp": 1744549428946,
     "user": {
      "displayName": "Arpita Sethi",
      "userId": "12763240686332480089"
     },
     "user_tz": -330
    },
    "id": "DbDhqDZ7Ovsp",
    "outputId": "3c523474-4ed6-45a8-838f-e86229e74fec"
   },
   "outputs": [
    {
     "name": "stdout",
     "output_type": "stream",
     "text": [
      "Output 1: ['sport', 'alway', 'integr', 'part', 'human', 'cultur', 'develop', 'footbal', 'athlet', 'game', 'bring', 'peopl', 'togeth', 'teach', 'valuabl', 'life', 'skill', 'find', 'inspir', 'athlet', 'train', 'dedic', 'push', 'limit', 'experi', 'competitions—they', 'shape', 'charact', 'promot', 'uniti', 'futur', 'look', 'healthier', 'stronger', 'connect', 'sport', 'truli', 'motiv', 'embrac', 'activ', 'disciplin', 'lifestyl']\n",
      "Output 2:  ['sport', 'alway', 'integr', 'part', 'hum', 'cult', 'develop', 'footbal', 'athlet', 'gam', 'bring', 'peopl', 'togeth', 'teach', 'valu', 'lif', 'skil', 'find', 'inspir', 'athlet', 'train', 'ded', 'push', 'limit', 'expery', 'competitions—they', 'shap', 'charact', 'promot', 'un', 'fut', 'look', 'healthy', 'stronger', 'connect', 'sport', 'tru', 'mot', 'embrac', 'act', 'disciplin', 'lifestyl']\n"
     ]
    }
   ],
   "source": [
    "from nltk.stem import PorterStemmer, LancasterStemmer\n",
    "\n",
    "porter=PorterStemmer()\n",
    "lancaster=LancasterStemmer()\n",
    "\n",
    "porter_stemmed=[porter.stem(word) for word in filtered_words]\n",
    "lancaster_stemmed=[lancaster.stem(word) for word in filtered_words]\n",
    "\n",
    "print('Output 1:',porter_stemmed)\n",
    "print('Output 2: ', lancaster_stemmed)"
   ]
  },
  {
   "cell_type": "code",
   "execution_count": 11,
   "metadata": {
    "colab": {
     "base_uri": "https://localhost:8080/"
    },
    "executionInfo": {
     "elapsed": 4546,
     "status": "ok",
     "timestamp": 1744549465329,
     "user": {
      "displayName": "Arpita Sethi",
      "userId": "12763240686332480089"
     },
     "user_tz": -330
    },
    "id": "785vcf1LPk2v",
    "outputId": "7c0a4e93-1a20-47d9-88e2-561bb4f320ea"
   },
   "outputs": [
    {
     "name": "stderr",
     "output_type": "stream",
     "text": [
      "[nltk_data] Downloading package wordnet to\n",
      "[nltk_data]     C:\\Users\\Win10\\AppData\\Roaming\\nltk_data...\n",
      "[nltk_data] Downloading package omw-1.4 to\n",
      "[nltk_data]     C:\\Users\\Win10\\AppData\\Roaming\\nltk_data...\n"
     ]
    },
    {
     "data": {
      "text/plain": [
       "['sport',\n",
       " 'always',\n",
       " 'integral',\n",
       " 'part',\n",
       " 'human',\n",
       " 'culture',\n",
       " 'development',\n",
       " 'football',\n",
       " 'athletics',\n",
       " 'game',\n",
       " 'brings',\n",
       " 'people',\n",
       " 'together',\n",
       " 'teach',\n",
       " 'valuable',\n",
       " 'life',\n",
       " 'skill',\n",
       " 'find',\n",
       " 'inspiring',\n",
       " 'athlete',\n",
       " 'train',\n",
       " 'dedication',\n",
       " 'push',\n",
       " 'limit',\n",
       " 'experience',\n",
       " 'competitions—they',\n",
       " 'shape',\n",
       " 'character',\n",
       " 'promote',\n",
       " 'unity',\n",
       " 'future',\n",
       " 'look',\n",
       " 'healthier',\n",
       " 'stronger',\n",
       " 'connected',\n",
       " 'sport',\n",
       " 'truly',\n",
       " 'motivates',\n",
       " 'embrace',\n",
       " 'active',\n",
       " 'disciplined',\n",
       " 'lifestyle']"
      ]
     },
     "execution_count": 11,
     "metadata": {},
     "output_type": "execute_result"
    }
   ],
   "source": [
    "from nltk.stem import WordNetLemmatizer\n",
    "nltk.download('wordnet')\n",
    "nltk.download ('omw-1.4')\n",
    "\n",
    "lemmatizer=WordNetLemmatizer()\n",
    "lemmatized_words=[lemmatizer.lemmatize(word) for word in filtered_words]\n",
    "lemmatized_words"
   ]
  },
  {
   "cell_type": "code",
   "execution_count": 12,
   "metadata": {
    "colab": {
     "base_uri": "https://localhost:8080/"
    },
    "executionInfo": {
     "elapsed": 47,
     "status": "ok",
     "timestamp": 1744549707204,
     "user": {
      "displayName": "Arpita Sethi",
      "userId": "12763240686332480089"
     },
     "user_tz": -330
    },
    "id": "vYu8ICsWQDhx",
    "outputId": "ed2340e0-608a-4ccc-fc02-853967e8c876"
   },
   "outputs": [
    {
     "name": "stdout",
     "output_type": "stream",
     "text": [
      " Comparison Table\n",
      "Original        PorterStem      LancasterStem   Lemmatized     \n",
      "============================================================\n",
      "sports          sport           sport           sport          \n",
      "always          alway           alway           always         \n",
      "integral        integr          integr          integral       \n",
      "part            part            part            part           \n",
      "human           human           hum             human          \n",
      "culture         cultur          cult            culture        \n",
      "development     develop         develop         development    \n",
      "football        footbal         footbal         football       \n",
      "athletics       athlet          athlet          athletics      \n",
      "game            game            gam             game           \n",
      "brings          bring           bring           brings         \n",
      "people          peopl           peopl           people         \n",
      "together        togeth          togeth          together       \n",
      "teaches         teach           teach           teach          \n",
      "valuable        valuabl         valu            valuable       \n",
      "life            life            lif             life           \n",
      "skills          skill           skil            skill          \n",
      "find            find            find            find           \n",
      "inspiring       inspir          inspir          inspiring      \n",
      "athletes        athlet          athlet          athlete        \n",
      "train           train           train           train          \n",
      "dedication      dedic           ded             dedication     \n",
      "push            push            push            push           \n",
      "limits          limit           limit           limit          \n",
      "experiences     experi          expery          experience     \n",
      "competitions—they competitions—they competitions—they competitions—they\n",
      "shape           shape           shap            shape          \n",
      "character       charact         charact         character      \n",
      "promote         promot          promot          promote        \n",
      "unity           uniti           un              unity          \n",
      "future          futur           fut             future         \n",
      "looks           look            look            look           \n",
      "healthier       healthier       healthy         healthier      \n",
      "stronger        stronger        stronger        stronger       \n",
      "connected       connect         connect         connected      \n",
      "sports          sport           sport           sport          \n",
      "truly           truli           tru             truly          \n",
      "motivates       motiv           mot             motivates      \n",
      "embrace         embrac          embrac          embrace        \n",
      "active          activ           act             active         \n",
      "disciplined     disciplin       disciplin       disciplined    \n",
      "lifestyle       lifestyl        lifestyl        lifestyle      \n"
     ]
    }
   ],
   "source": [
    "print(\" Comparison Table\")\n",
    "print(f\"{'Original':<15} {'PorterStem':<15} {'LancasterStem':<15} {'Lemmatized':<15}\")\n",
    "print(\"=\"*60)\n",
    "for o, p, l, lemm in zip(filtered_words, porter_stemmed, lancaster_stemmed, lemmatized_words):\n",
    "    print(f\"{o:<15} {p:<15} {l:<15} {lemm:<15}\")\n"
   ]
  },
  {
   "cell_type": "code",
   "execution_count": 13,
   "metadata": {
    "colab": {
     "base_uri": "https://localhost:8080/"
    },
    "executionInfo": {
     "elapsed": 10,
     "status": "ok",
     "timestamp": 1744549999596,
     "user": {
      "displayName": "Arpita Sethi",
      "userId": "12763240686332480089"
     },
     "user_tz": -330
    },
    "id": "dqX2E8AtREv2",
    "outputId": "40c9946b-fd4f-4175-d7b3-6a23f227195d"
   },
   "outputs": [
    {
     "data": {
      "text/plain": [
       "['Sports',\n",
       " 'always',\n",
       " 'integral',\n",
       " 'culture',\n",
       " 'development',\n",
       " 'football',\n",
       " 'athletics',\n",
       " 'brings',\n",
       " 'people',\n",
       " 'together',\n",
       " 'teaches',\n",
       " 'valuable',\n",
       " 'skills',\n",
       " 'inspiring',\n",
       " 'athletes',\n",
       " 'dedication',\n",
       " 'limits',\n",
       " 'experiences',\n",
       " 'competitions',\n",
       " 'character',\n",
       " 'promote',\n",
       " 'future',\n",
       " 'healthier',\n",
       " 'stronger',\n",
       " 'connected',\n",
       " 'through',\n",
       " 'sports',\n",
       " 'motivates',\n",
       " 'embrace',\n",
       " 'active',\n",
       " 'disciplined',\n",
       " 'lifestyle']"
      ]
     },
     "execution_count": 13,
     "metadata": {},
     "output_type": "execute_result"
    }
   ],
   "source": [
    "import re\n",
    "wordss= re.findall(r'\\b[a-zA-Z]{6,}\\b', text)\n",
    "wordss"
   ]
  },
  {
   "cell_type": "code",
   "execution_count": 14,
   "metadata": {
    "colab": {
     "base_uri": "https://localhost:8080/"
    },
    "executionInfo": {
     "elapsed": 13,
     "status": "ok",
     "timestamp": 1744550041205,
     "user": {
      "displayName": "Arpita Sethi",
      "userId": "12763240686332480089"
     },
     "user_tz": -330
    },
    "id": "lDGe7ZCJSHKc",
    "outputId": "b6af0b73-a416-4c5b-da3f-55c36dc825cd"
   },
   "outputs": [
    {
     "data": {
      "text/plain": [
       "[]"
      ]
     },
     "execution_count": 14,
     "metadata": {},
     "output_type": "execute_result"
    }
   ],
   "source": [
    "numbers=re.findall(r'\\b\\d+\\b', text)\n",
    "numbers"
   ]
  },
  {
   "cell_type": "code",
   "execution_count": 15,
   "metadata": {
    "colab": {
     "base_uri": "https://localhost:8080/"
    },
    "executionInfo": {
     "elapsed": 19,
     "status": "ok",
     "timestamp": 1744550244966,
     "user": {
      "displayName": "Arpita Sethi",
      "userId": "12763240686332480089"
     },
     "user_tz": -330
    },
    "id": "XM_hfFpiSRUT",
    "outputId": "dab369c1-10a6-4092-f0ba-9e8019d2e921"
   },
   "outputs": [
    {
     "data": {
      "text/plain": [
       "['Sports', 'From', 'I', 'These', 'The', 'It']"
      ]
     },
     "execution_count": 15,
     "metadata": {},
     "output_type": "execute_result"
    }
   ],
   "source": [
    "capital=re.findall(r'\\b[A-Z][a-z]*\\b', text)\n",
    "capital"
   ]
  },
  {
   "cell_type": "code",
   "execution_count": 16,
   "metadata": {
    "colab": {
     "base_uri": "https://localhost:8080/"
    },
    "executionInfo": {
     "elapsed": 20,
     "status": "ok",
     "timestamp": 1744550391174,
     "user": {
      "displayName": "Arpita Sethi",
      "userId": "12763240686332480089"
     },
     "user_tz": -330
    },
    "id": "_dJ9wUTZSv8f",
    "outputId": "0a949579-901d-444c-d303-8905eac538b7"
   },
   "outputs": [
    {
     "data": {
      "text/plain": [
       "['Sports',\n",
       " 'have',\n",
       " 'always',\n",
       " 'been',\n",
       " 'an',\n",
       " 'integral',\n",
       " 'part',\n",
       " 'of',\n",
       " 'human',\n",
       " 'culture',\n",
       " 'and',\n",
       " 'development',\n",
       " 'From',\n",
       " 'football',\n",
       " 'to',\n",
       " 'athletics',\n",
       " 'each',\n",
       " 'game',\n",
       " 'brings',\n",
       " 'people',\n",
       " 'together',\n",
       " 'and',\n",
       " 'teaches',\n",
       " 'valuable',\n",
       " 'life',\n",
       " 'skills',\n",
       " 'I',\n",
       " 'find',\n",
       " 'it',\n",
       " 'inspiring',\n",
       " 'how',\n",
       " 'athletes',\n",
       " 'train',\n",
       " 'with',\n",
       " 'dedication',\n",
       " 'and',\n",
       " 'push',\n",
       " 'their',\n",
       " 'limits',\n",
       " 'These',\n",
       " 'experiences',\n",
       " 'are',\n",
       " 'not',\n",
       " 'just',\n",
       " 'competitions',\n",
       " 'they',\n",
       " 'shape',\n",
       " 'character',\n",
       " 'and',\n",
       " 'promote',\n",
       " 'unity',\n",
       " 'The',\n",
       " 'future',\n",
       " 'looks',\n",
       " 'healthier',\n",
       " 'stronger',\n",
       " 'and',\n",
       " 'more',\n",
       " 'connected',\n",
       " 'through',\n",
       " 'sports',\n",
       " 'It',\n",
       " 'truly',\n",
       " 'motivates',\n",
       " 'me',\n",
       " 'to',\n",
       " 'embrace',\n",
       " 'an',\n",
       " 'active',\n",
       " 'and',\n",
       " 'disciplined',\n",
       " 'lifestyle']"
      ]
     },
     "execution_count": 16,
     "metadata": {},
     "output_type": "execute_result"
    }
   ],
   "source": [
    "only_alphabets=re.findall(r'\\b[a-zA-Z]+\\b', text)\n",
    "only_alphabets"
   ]
  },
  {
   "cell_type": "code",
   "execution_count": 17,
   "metadata": {
    "colab": {
     "base_uri": "https://localhost:8080/"
    },
    "executionInfo": {
     "elapsed": 10,
     "status": "ok",
     "timestamp": 1744550847836,
     "user": {
      "displayName": "Arpita Sethi",
      "userId": "12763240686332480089"
     },
     "user_tz": -330
    },
    "id": "2jZOS4oETmwr",
    "outputId": "f52c6e58-e7e5-4872-8bce-5858497221a6"
   },
   "outputs": [
    {
     "data": {
      "text/plain": [
       "['always',\n",
       " 'an',\n",
       " 'integral',\n",
       " 'of',\n",
       " 'and',\n",
       " 'athletics',\n",
       " 'each',\n",
       " 'and',\n",
       " 'I',\n",
       " 'it',\n",
       " 'inspiring',\n",
       " 'athletes',\n",
       " 'and',\n",
       " 'experiences',\n",
       " 'are',\n",
       " 'and',\n",
       " 'unity',\n",
       " 'and',\n",
       " 'It',\n",
       " 'embrace',\n",
       " 'an',\n",
       " 'active',\n",
       " 'and']"
      ]
     },
     "execution_count": 17,
     "metadata": {},
     "output_type": "execute_result"
    }
   ],
   "source": [
    "vowel_words= [word for word in only_alphabets if word.lower().startswith(('a','e','i','o','u'))]\n",
    "vowel_words"
   ]
  },
  {
   "cell_type": "code",
   "execution_count": 18,
   "metadata": {
    "colab": {
     "base_uri": "https://localhost:8080/"
    },
    "executionInfo": {
     "elapsed": 42,
     "status": "ok",
     "timestamp": 1744551685597,
     "user": {
      "displayName": "Arpita Sethi",
      "userId": "12763240686332480089"
     },
     "user_tz": -330
    },
    "id": "4n3i-7qsVWP6",
    "outputId": "1ed1c9ca-c12d-4126-ae0e-28cc0f5b6d70"
   },
   "outputs": [
    {
     "data": {
      "text/plain": [
       "['Sports',\n",
       " 'have',\n",
       " 'always',\n",
       " 'been',\n",
       " 'an',\n",
       " 'integral',\n",
       " 'part',\n",
       " 'of',\n",
       " 'human',\n",
       " 'culture',\n",
       " 'and',\n",
       " 'development',\n",
       " 'From',\n",
       " 'football',\n",
       " 'to',\n",
       " 'athletics',\n",
       " 'each',\n",
       " 'game',\n",
       " 'brings',\n",
       " 'people',\n",
       " 'together',\n",
       " 'and',\n",
       " 'teaches',\n",
       " 'valuable',\n",
       " 'life',\n",
       " 'skills',\n",
       " 'I',\n",
       " 'find',\n",
       " 'it',\n",
       " 'inspiring',\n",
       " 'how',\n",
       " 'athletes',\n",
       " 'train',\n",
       " 'with',\n",
       " 'dedication',\n",
       " 'and',\n",
       " 'push',\n",
       " 'their',\n",
       " 'limits',\n",
       " 'These',\n",
       " 'experiences',\n",
       " 'are',\n",
       " 'not',\n",
       " 'just',\n",
       " 'competitions',\n",
       " 'they',\n",
       " 'shape',\n",
       " 'character',\n",
       " 'and',\n",
       " 'promote',\n",
       " 'unity',\n",
       " 'The',\n",
       " 'future',\n",
       " 'looks',\n",
       " 'healthier',\n",
       " 'stronger',\n",
       " 'and',\n",
       " 'more',\n",
       " 'connected',\n",
       " 'through',\n",
       " 'sports',\n",
       " 'It',\n",
       " 'truly',\n",
       " 'motivates',\n",
       " 'me',\n",
       " 'to',\n",
       " 'embrace',\n",
       " 'an',\n",
       " 'active',\n",
       " 'and',\n",
       " 'disciplined',\n",
       " 'lifestyle']"
      ]
     },
     "execution_count": 18,
     "metadata": {},
     "output_type": "execute_result"
    }
   ],
   "source": [
    "def custom_tokenizer(text):\n",
    "    pattern = r\"\\b\\w+(?:-\\w+)*\\b|\\d+\\.\\d+|\\w+'\\w+\"\n",
    "    return re.findall(pattern, text)\n",
    "text_tokens=custom_tokenizer(text)\n",
    "text_tokens"
   ]
  },
  {
   "cell_type": "code",
   "execution_count": 19,
   "metadata": {
    "executionInfo": {
     "elapsed": 21,
     "status": "ok",
     "timestamp": 1744551878618,
     "user": {
      "displayName": "Arpita Sethi",
      "userId": "12763240686332480089"
     },
     "user_tz": -330
    },
    "id": "4taBcwFBV9TF"
   },
   "outputs": [],
   "source": [
    "\n",
    "text = \"\"\"\n",
    "Contact us at support@example.com or visit https://example.com for more info.\n",
    "You can also call +91 9876543210 or 123-456-7890.\n",
    "Alternatively, email john.doe123@domain.co.in or check out http://www.domain.com/page.\n",
    "\"\"\"\n",
    "\n",
    "email_pattern = r'[a-zA-Z0-9._%+-]+@[a-zA-Z0-9.-]+\\.[a-zA-Z]{2,}'\n",
    "text = re.sub(email_pattern, '<EMAIL>', text)\n"
   ]
  },
  {
   "cell_type": "code",
   "execution_count": 20,
   "metadata": {
    "colab": {
     "base_uri": "https://localhost:8080/",
     "height": 70
    },
    "executionInfo": {
     "elapsed": 9,
     "status": "ok",
     "timestamp": 1744551891627,
     "user": {
      "displayName": "Arpita Sethi",
      "userId": "12763240686332480089"
     },
     "user_tz": -330
    },
    "id": "Irg0sGr6ZR6X",
    "outputId": "aeb51985-e8c8-43aa-fff2-6604a85c01ad"
   },
   "outputs": [
    {
     "data": {
      "text/plain": [
       "'\\nContact us at <EMAIL> or visit https://example.com for more info.\\nYou can also call +91 9876543210 or 123-456-7890.\\nAlternatively, email <EMAIL> or check out http://www.domain.com/page.\\n'"
      ]
     },
     "execution_count": 20,
     "metadata": {},
     "output_type": "execute_result"
    }
   ],
   "source": [
    "text"
   ]
  },
  {
   "cell_type": "code",
   "execution_count": 21,
   "metadata": {
    "colab": {
     "base_uri": "https://localhost:8080/",
     "height": 52
    },
    "executionInfo": {
     "elapsed": 11,
     "status": "ok",
     "timestamp": 1744551917873,
     "user": {
      "displayName": "Arpita Sethi",
      "userId": "12763240686332480089"
     },
     "user_tz": -330
    },
    "id": "VC_g3blRZVFv",
    "outputId": "b61d6765-faf5-41cd-c93a-546925236ba1"
   },
   "outputs": [
    {
     "data": {
      "text/plain": [
       "'\\nContact us at <EMAIL> or visit <URL> for more info.\\nYou can also call +91 9876543210 or 123-456-7890.\\nAlternatively, email <EMAIL> or check out <URL>\\n'"
      ]
     },
     "execution_count": 21,
     "metadata": {},
     "output_type": "execute_result"
    }
   ],
   "source": [
    "url_pattern = r'https?://[^\\s]+'\n",
    "text = re.sub(url_pattern, '<URL>', text)\n",
    "text"
   ]
  },
  {
   "cell_type": "code",
   "execution_count": 22,
   "metadata": {
    "executionInfo": {
     "elapsed": 10,
     "status": "ok",
     "timestamp": 1744551921440,
     "user": {
      "displayName": "Arpita Sethi",
      "userId": "12763240686332480089"
     },
     "user_tz": -330
    },
    "id": "nxnQ3DN8Zbfp"
   },
   "outputs": [],
   "source": [
    "phone_pattern = r'(\\+91\\s?\\d{10})|(\\d{3}-\\d{3}-\\d{4})'\n",
    "text = re.sub(phone_pattern, '<PHONE>', text)\n"
   ]
  },
  {
   "cell_type": "code",
   "execution_count": 23,
   "metadata": {
    "colab": {
     "base_uri": "https://localhost:8080/",
     "height": 52
    },
    "executionInfo": {
     "elapsed": 19,
     "status": "ok",
     "timestamp": 1744551924732,
     "user": {
      "displayName": "Arpita Sethi",
      "userId": "12763240686332480089"
     },
     "user_tz": -330
    },
    "id": "HIuSvUMvZcXH",
    "outputId": "1d33a37d-fcc1-4f07-e2dd-45069ee90410"
   },
   "outputs": [
    {
     "data": {
      "text/plain": [
       "'\\nContact us at <EMAIL> or visit <URL> for more info.\\nYou can also call <PHONE> or <PHONE>.\\nAlternatively, email <EMAIL> or check out <URL>\\n'"
      ]
     },
     "execution_count": 23,
     "metadata": {},
     "output_type": "execute_result"
    }
   ],
   "source": [
    "text"
   ]
  },
  {
   "cell_type": "code",
   "execution_count": null,
   "metadata": {
    "id": "_a3GQfnPZdHE"
   },
   "outputs": [],
   "source": []
  }
 ],
 "metadata": {
  "colab": {
   "authorship_tag": "ABX9TyM4G1sntKvAx6a8d9w/bvBk",
   "provenance": []
  },
  "kernelspec": {
   "display_name": "Python 3 (ipykernel)",
   "language": "python",
   "name": "python3"
  },
  "language_info": {
   "codemirror_mode": {
    "name": "ipython",
    "version": 3
   },
   "file_extension": ".py",
   "mimetype": "text/x-python",
   "name": "python",
   "nbconvert_exporter": "python",
   "pygments_lexer": "ipython3",
   "version": "3.13.2"
  }
 },
 "nbformat": 4,
 "nbformat_minor": 4
}
